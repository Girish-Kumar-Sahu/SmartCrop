{
  "nbformat": 4,
  "nbformat_minor": 0,
  "metadata": {
    "colab": {
      "provenance": [],
      "authorship_tag": "ABX9TyMrokIdl4BmSpXfHGcz0SAI",
      "include_colab_link": true
    },
    "kernelspec": {
      "name": "python3",
      "display_name": "Python 3"
    },
    "language_info": {
      "name": "python"
    }
  },
  "cells": [
    {
      "cell_type": "markdown",
      "metadata": {
        "id": "view-in-github",
        "colab_type": "text"
      },
      "source": [
        "<a href=\"https://colab.research.google.com/github/Girish-Kumar-Sahu/SmartCrop/blob/main/smartcrop_prototype.ipynb\" target=\"_parent\"><img src=\"https://colab.research.google.com/assets/colab-badge.svg\" alt=\"Open In Colab\"/></a>"
      ]
    },
    {
      "cell_type": "code",
      "execution_count": null,
      "metadata": {
        "colab": {
          "base_uri": "https://localhost:8080/",
          "height": 646
        },
        "id": "_Z6DJDZETeQY",
        "outputId": "9f96b7e7-d15a-4615-a85f-1a5352350393"
      },
      "outputs": [
        {
          "output_type": "stream",
          "name": "stdout",
          "text": [
            "Train Accuracy: 1.0\n",
            "Test Accuracy: 0.9931818181818182\n",
            "Colab notebook detected. To show errors in colab notebook, set debug=True in launch()\n",
            "* Running on public URL: https://7e0571cc8737deb7c2.gradio.live\n",
            "\n",
            "This share link expires in 1 week. For free permanent hosting and GPU upgrades, run `gradio deploy` from the terminal in the working directory to deploy to Hugging Face Spaces (https://huggingface.co/spaces)\n"
          ]
        },
        {
          "output_type": "display_data",
          "data": {
            "text/plain": [
              "<IPython.core.display.HTML object>"
            ],
            "text/html": [
              "<div><iframe src=\"https://7e0571cc8737deb7c2.gradio.live\" width=\"100%\" height=\"500\" allow=\"autoplay; camera; microphone; clipboard-read; clipboard-write;\" frameborder=\"0\" allowfullscreen></iframe></div>"
            ]
          },
          "metadata": {}
        },
        {
          "output_type": "execute_result",
          "data": {
            "text/plain": []
          },
          "metadata": {},
          "execution_count": 14
        }
      ],
      "source": [
        "import pandas as pd\n",
        "from sklearn.model_selection import train_test_split\n",
        "from sklearn.ensemble import RandomForestClassifier\n",
        "from sklearn.preprocessing import LabelEncoder\n",
        "import joblib\n",
        "import gradio as gr\n",
        "import numpy as np\n",
        "\n",
        "# Load dataset\n",
        "df = pd.read_csv(\"Crop_dataset.csv\")\n",
        "\n",
        "X = df[['N','P','K','temperature','humidity','ph','rainfall']]\n",
        "y = df['label']\n",
        "\n",
        "le = LabelEncoder()\n",
        "y_enc = le.fit_transform(y)\n",
        "\n",
        "X_train, X_test, y_train, y_test = train_test_split(X, y_enc, test_size=0.2, random_state=42)\n",
        "\n",
        "model = RandomForestClassifier(n_estimators=100, random_state=42)\n",
        "model.fit(X_train, y_train)\n",
        "\n",
        "print(\"Train Accuracy:\", model.score(X_train, y_train))\n",
        "print(\"Test Accuracy:\", model.score(X_test, y_test))\n",
        "\n",
        "joblib.dump(model, \"crop_model.joblib\")\n",
        "joblib.dump(le, \"label_encoder.joblib\")\n",
        "\n",
        "model = joblib.load(\"crop_model.joblib\")\n",
        "le = joblib.load(\"label_encoder.joblib\")\n",
        "\n",
        "def recommend_crop(N, P, K, temperature, humidity, ph, rainfall):\n",
        "    features = np.array([[N, P, K, temperature, humidity, ph, rainfall]])\n",
        "    pred = model.predict(features)[0]\n",
        "    crop = le.inverse_transform([pred])[0]\n",
        "\n",
        "    yield_est = round(1000 + (rainfall - 50) * 5, 1)\n",
        "    profit_est = round(yield_est * 2.5, 1)\n",
        "    sustainability = max(0, 100 - abs(ph - 6.5) * 10)\n",
        "\n",
        "    return {\n",
        "        \"Recommended Crop\": crop,\n",
        "        \"Estimated Yield (kg/acre)\": yield_est,\n",
        "        \"Estimated Profit (₹)\": profit_est,\n",
        "        \"Sustainability Score\": sustainability\n",
        "    }\n",
        "\n",
        "demo = gr.Interface(\n",
        "    fn=recommend_crop,\n",
        "    inputs=[\n",
        "        gr.Number(label=\"Nitrogen (N)\"),\n",
        "        gr.Number(label=\"Phosphorus (P)\"),\n",
        "        gr.Number(label=\"Potassium (K)\"),\n",
        "        gr.Number(label=\"Temperature (°C)\"),\n",
        "        gr.Number(label=\"Humidity (%)\"),\n",
        "        gr.Number(label=\"Soil pH\"),\n",
        "        gr.Number(label=\"Rainfall (mm)\")\n",
        "    ],\n",
        "    outputs=\"json\",\n",
        "    title=\"SmartCrop\",\n",
        "    description=\"AI-based Crop Recommendation System\"\n",
        ")\n",
        "\n",
        "demo.launch(share=True)\n"
      ]
    },
    {
      "cell_type": "markdown",
      "source": [
        "# New section"
      ],
      "metadata": {
        "id": "nn9_XDGvVwQ_"
      }
    }
  ]
}